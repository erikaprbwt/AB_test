{
  "nbformat": 4,
  "nbformat_minor": 0,
  "metadata": {
    "colab": {
      "name": "AB_test.ipynb",
      "provenance": [],
      "collapsed_sections": [],
      "mount_file_id": "1CGJMAtjonKXB7djsP6z9ATCaRuLMne_0",
      "authorship_tag": "ABX9TyPDxUDiFn8yzLrWxz/csGBW",
      "include_colab_link": true
    },
    "kernelspec": {
      "display_name": "Python 3",
      "name": "python3"
    },
    "language_info": {
      "name": "python"
    }
  },
  "cells": [
    {
      "cell_type": "markdown",
      "metadata": {
        "id": "view-in-github",
        "colab_type": "text"
      },
      "source": [
        "<a href=\"https://colab.research.google.com/github/erikaprbwt/AB_test/blob/main/AB_test.ipynb\" target=\"_parent\"><img src=\"https://colab.research.google.com/assets/colab-badge.svg\" alt=\"Open In Colab\"/></a>"
      ]
    },
    {
      "cell_type": "markdown",
      "metadata": {
        "id": "FqyQZle-meGo"
      },
      "source": [
        "# **Exploratory Data Analysis and Pre-processing**"
      ]
    },
    {
      "cell_type": "code",
      "metadata": {
        "colab": {
          "base_uri": "https://localhost:8080/"
        },
        "id": "M4gB8Z78NHHW",
        "outputId": "7563d628-9006-4f86-939d-d5382924d990"
      },
      "source": [
        "from google.colab import drive\n",
        "drive.mount('/content/drive')"
      ],
      "execution_count": null,
      "outputs": [
        {
          "name": "stdout",
          "output_type": "stream",
          "text": [
            "Drive already mounted at /content/drive; to attempt to forcibly remount, call drive.mount(\"/content/drive\", force_remount=True).\n"
          ]
        }
      ]
    },
    {
      "cell_type": "markdown",
      "metadata": {
        "id": "AoXbO49wYP-_"
      },
      "source": [
        ""
      ]
    },
    {
      "cell_type": "code",
      "metadata": {
        "id": "a8UpcHpiXEt_"
      },
      "source": [
        "import numpy as np \n",
        "import pandas as pd \n",
        "import matplotlib.pyplot as plt\n",
        "import seaborn as sns\n",
        "import statsmodels.stats.proportion as sp"
      ],
      "execution_count": null,
      "outputs": []
    },
    {
      "cell_type": "code",
      "metadata": {
        "id": "9wVSoB7eVLf6"
      },
      "source": [
        "df=pd.read_csv('/content/drive/MyDrive/cookie_cats.csv')"
      ],
      "execution_count": null,
      "outputs": []
    },
    {
      "cell_type": "code",
      "metadata": {
        "id": "Sre2v_5wY-Xi"
      },
      "source": [
        "from matplotlib import rcParams\n",
        "rcParams['figure.figsize'] = (8,4)\n",
        "rcParams['lines.linewidth'] = 3\n",
        "rcParams['xtick.labelsize'] = 'small'\n",
        "rcParams['ytick.labelsize'] = 'small'"
      ],
      "execution_count": null,
      "outputs": []
    },
    {
      "cell_type": "code",
      "metadata": {
        "colab": {
          "base_uri": "https://localhost:8080/"
        },
        "id": "lXXFgRGlaIhP",
        "outputId": "faf13678-998a-4eae-9f93-a3a2454e8881"
      },
      "source": [
        "df.info()"
      ],
      "execution_count": null,
      "outputs": [
        {
          "name": "stdout",
          "output_type": "stream",
          "text": [
            "<class 'pandas.core.frame.DataFrame'>\n",
            "RangeIndex: 90189 entries, 0 to 90188\n",
            "Data columns (total 5 columns):\n",
            " #   Column          Non-Null Count  Dtype \n",
            "---  ------          --------------  ----- \n",
            " 0   userid          90189 non-null  int64 \n",
            " 1   version         90189 non-null  object\n",
            " 2   sum_gamerounds  90189 non-null  int64 \n",
            " 3   retention_1     90189 non-null  bool  \n",
            " 4   retention_7     90189 non-null  bool  \n",
            "dtypes: bool(2), int64(2), object(1)\n",
            "memory usage: 2.2+ MB\n"
          ]
        }
      ]
    },
    {
      "cell_type": "markdown",
      "metadata": {
        "id": "5aktrHgIctNC"
      },
      "source": [
        "#Struktur Data\n",
        "*   Dataset terdiri dari 90189 baris dan 5 kolom\n",
        "*   Tidak terdapat missing value pada setiap atribut\n",
        "*   Terdapat 2 variabel bool, 2 variabel integer dan 1 variabel object\n",
        "\n",
        "#Data Dictionary\n",
        "Atribut/variabel pada dataset yaitu:\n",
        "*   userid - nomor unik yang mengidentifikasi tiap pemain games.\n",
        "*   version - player yang dimasukkan pada grup `control` (`gate_30`) atau grup `test` (`gate_40`).\n",
        "*   sum_gamerounds - banyak ronde game yang dimainkan pemain selama minggu pertama setelah instalasi.\n",
        "*   retention_1 - apakah pemain kembali lagi dan bermain 1 hari setelah instalasi?\n",
        "*   retention_7 - apakah pemain kembali lagi dan bermain 7 hari setelah instalasi?\n",
        "\n",
        "Ketika pemain menginstal game, mereka secara random dikelompokkan ke `gate_30` atau `gate_40`\n",
        "\n",
        "[Sumber Data](https://www.kaggle.com/ekrembayar/a-b-testing-step-by-step-hypothesis-testing) "
      ]
    },
    {
      "cell_type": "code",
      "metadata": {
        "id": "KswWbM4bBV66"
      },
      "source": [
        "#jika terdapat missing value\n",
        "df=df.dropna()"
      ],
      "execution_count": null,
      "outputs": []
    },
    {
      "cell_type": "code",
      "metadata": {
        "colab": {
          "base_uri": "https://localhost:8080/",
          "height": 143
        },
        "id": "_F8BRb5mYJNR",
        "outputId": "c2d15542-d87c-41d4-aa50-263b1e0ccbfe"
      },
      "source": [
        "df.head(3)"
      ],
      "execution_count": null,
      "outputs": [
        {
          "data": {
            "text/html": [
              "<div>\n",
              "<style scoped>\n",
              "    .dataframe tbody tr th:only-of-type {\n",
              "        vertical-align: middle;\n",
              "    }\n",
              "\n",
              "    .dataframe tbody tr th {\n",
              "        vertical-align: top;\n",
              "    }\n",
              "\n",
              "    .dataframe thead th {\n",
              "        text-align: right;\n",
              "    }\n",
              "</style>\n",
              "<table border=\"1\" class=\"dataframe\">\n",
              "  <thead>\n",
              "    <tr style=\"text-align: right;\">\n",
              "      <th></th>\n",
              "      <th>userid</th>\n",
              "      <th>version</th>\n",
              "      <th>sum_gamerounds</th>\n",
              "      <th>retention_1</th>\n",
              "      <th>retention_7</th>\n",
              "    </tr>\n",
              "  </thead>\n",
              "  <tbody>\n",
              "    <tr>\n",
              "      <th>0</th>\n",
              "      <td>116</td>\n",
              "      <td>gate_30</td>\n",
              "      <td>3</td>\n",
              "      <td>False</td>\n",
              "      <td>False</td>\n",
              "    </tr>\n",
              "    <tr>\n",
              "      <th>1</th>\n",
              "      <td>337</td>\n",
              "      <td>gate_30</td>\n",
              "      <td>38</td>\n",
              "      <td>True</td>\n",
              "      <td>False</td>\n",
              "    </tr>\n",
              "    <tr>\n",
              "      <th>2</th>\n",
              "      <td>377</td>\n",
              "      <td>gate_40</td>\n",
              "      <td>165</td>\n",
              "      <td>True</td>\n",
              "      <td>False</td>\n",
              "    </tr>\n",
              "  </tbody>\n",
              "</table>\n",
              "</div>"
            ],
            "text/plain": [
              "   userid  version  sum_gamerounds  retention_1  retention_7\n",
              "0     116  gate_30               3        False        False\n",
              "1     337  gate_30              38         True        False\n",
              "2     377  gate_40             165         True        False"
            ]
          },
          "execution_count": 196,
          "metadata": {},
          "output_type": "execute_result"
        }
      ]
    },
    {
      "cell_type": "code",
      "metadata": {
        "colab": {
          "base_uri": "https://localhost:8080/"
        },
        "id": "6eF8k5il_3JY",
        "outputId": "21c5dba7-783e-404c-83b8-ca22e89cbdff"
      },
      "source": [
        "#cek apakah ada duplikasi userid\n",
        "user_counts = df['userid'].value_counts(ascending=False)\n",
        "multi_users = user_counts[user_counts > 1].count()\n",
        "print(f'Terdapat {multi_users} users yang muncul beberapa kali dalam dataset')"
      ],
      "execution_count": null,
      "outputs": [
        {
          "name": "stdout",
          "output_type": "stream",
          "text": [
            "Terdapat 0 users yang muncul beberapa kali dalam dataset\n"
          ]
        }
      ]
    },
    {
      "cell_type": "code",
      "metadata": {
        "id": "L0Soazm2Al3p"
      },
      "source": [
        "#jika terdapat duplikasi\n",
        "users_to_drop = user_counts[user_counts > 1].index\n",
        "df = df[~df['userid'].isin(users_to_drop)]"
      ],
      "execution_count": null,
      "outputs": []
    },
    {
      "cell_type": "code",
      "metadata": {
        "id": "D6Hoz2PXbYYp"
      },
      "source": [
        "#mendefinisikan variabel contol dan test\n",
        "control = df[df['version']=='gate_30']\n",
        "test = df[df['version']=='gate_40']"
      ],
      "execution_count": null,
      "outputs": []
    },
    {
      "cell_type": "code",
      "metadata": {
        "colab": {
          "base_uri": "https://localhost:8080/"
        },
        "id": "1SAOCiYthR3i",
        "outputId": "efc5a41c-fd1a-4f29-ccce-c211b73ede74"
      },
      "source": [
        "#mentransformasi data string menjadi numerik (nominal)\n",
        "from sklearn.preprocessing import LabelEncoder\n",
        "labelencoder=LabelEncoder()\n",
        "df['retention_1']= labelencoder.fit_transform(df['retention_1'])\n",
        "df['retention_7']= labelencoder.fit_transform(df['retention_7'])\n",
        "df.info()"
      ],
      "execution_count": null,
      "outputs": [
        {
          "name": "stdout",
          "output_type": "stream",
          "text": [
            "<class 'pandas.core.frame.DataFrame'>\n",
            "RangeIndex: 90189 entries, 0 to 90188\n",
            "Data columns (total 5 columns):\n",
            " #   Column          Non-Null Count  Dtype \n",
            "---  ------          --------------  ----- \n",
            " 0   userid          90189 non-null  int64 \n",
            " 1   version         90189 non-null  object\n",
            " 2   sum_gamerounds  90189 non-null  int64 \n",
            " 3   retention_1     90189 non-null  int64 \n",
            " 4   retention_7     90189 non-null  int64 \n",
            "dtypes: int64(4), object(1)\n",
            "memory usage: 3.4+ MB\n"
          ]
        }
      ]
    },
    {
      "cell_type": "markdown",
      "metadata": {
        "id": "abGEP5S2N0gw"
      },
      "source": [
        "#**Statistik Deskriptif**"
      ]
    },
    {
      "cell_type": "code",
      "metadata": {
        "id": "tX6nr--4YQCx"
      },
      "source": [
        "#menghitung banyak success control dan test\n",
        "n_success_control=control['retention_1'].sum()\n",
        "n_obs_control=control['retention_1'].count()\n",
        "\n",
        "n_success_test=test['retention_1'].sum()\n",
        "n_obs_test=test['retention_1'].count()"
      ],
      "execution_count": null,
      "outputs": []
    },
    {
      "cell_type": "code",
      "metadata": {
        "colab": {
          "base_uri": "https://localhost:8080/"
        },
        "id": "UXNt7W3FInpe",
        "outputId": "726badda-039e-4544-c831-aff9f5c484a0"
      },
      "source": [
        "print(f'Terdapat {n_success_control} success control dan {n_success_test} success test')"
      ],
      "execution_count": null,
      "outputs": [
        {
          "name": "stdout",
          "output_type": "stream",
          "text": [
            "Terdapat 20034 success control dan 45489 success test\n"
          ]
        }
      ]
    },
    {
      "cell_type": "code",
      "metadata": {
        "colab": {
          "base_uri": "https://localhost:8080/"
        },
        "id": "nhl2uWJ7NSth",
        "outputId": "2b2218a8-36f4-49cd-cabf-6e0e22cf5537"
      },
      "source": [
        "\n",
        "#menghitung conversion rate\n",
        "control_conv_rate = n_success_control/n_obs_control\n",
        "test_conv_rate = n_success_test/n_obs_test\n",
        "print('control conversion rate : {0:.4f}'.format(control_conv_rate))\n",
        "print('test conversion rate : {0:.4f}'.format(test_conv_rate))"
      ],
      "execution_count": null,
      "outputs": [
        {
          "output_type": "stream",
          "name": "stdout",
          "text": [
            "control conversion rate : 0.4482\n",
            "test conversion rate : 0.4423\n"
          ]
        }
      ]
    },
    {
      "cell_type": "code",
      "metadata": {
        "colab": {
          "base_uri": "https://localhost:8080/",
          "height": 175
        },
        "id": "Mj-guNbJNq0f",
        "outputId": "4d18b85a-4b3c-462a-bac1-24f3856bd26a"
      },
      "source": [
        "x=['control', 'test']\n",
        "value = [control_conv_rate, test_conv_rate]\n",
        "plt.bar(x,value)\n",
        "plt.ylim(0,0.5)"
      ],
      "execution_count": null,
      "outputs": [
        {
          "output_type": "execute_result",
          "data": {
            "text/plain": [
              "(0.0, 0.5)"
            ]
          },
          "metadata": {},
          "execution_count": 69
        },
        {
          "output_type": "display_data",
          "data": {
            "image/png": "[encoded data removed]",
            "text/plain": [
              "<Figure size 576x288 with 1 Axes>"
            ]
          },
          "metadata": {
            "needs_background": "light"
          }
        }
      ]
    },
    {
      "cell_type": "markdown",
      "metadata": {
        "id": "DPBihHjuOIAE"
      },
      "source": [
        "*  Terlihat bahwa terdapat sedikit perbedaan/selisih conversion rate grup `control` dan `test`.\n",
        "* Untuk menentukan apakah kedua grup secara signifikan sama atau berbeda, perlu dilakukan tes hipotesis."
      ]
    },
    {
      "cell_type": "markdown",
      "metadata": {
        "id": "C8_QBHGaOtTX"
      },
      "source": [
        "#**Hypothesis Testing**\n",
        "\n",
        "*As players progress through the game they will encounter gates that force them to wait some time before they can progress or make an in-app purchase. In this project, we will analyze the result of an A/B test where the first gate in Cookie Cats was moved from level 30 to level 40. In particular, we will analyze the impact on player retention (D1 retention).*"
      ]
    },
    {
      "cell_type": "code",
      "metadata": {
        "id": "updnodd1O0_f"
      },
      "source": [
        "#making array\n",
        "success = np.array([n_success_control, n_success_test])\n",
        "obs = np.array([n_obs_control, n_obs_test])"
      ],
      "execution_count": null,
      "outputs": []
    },
    {
      "cell_type": "markdown",
      "metadata": {
        "id": "fLr2iYZaPZZI"
      },
      "source": [
        "H0 : gate_30 dan gate_40 memiliki conversion rate **sama**.\n",
        "\n",
        "H1 : gate_30 dan gate_40 memiliki conversion rate **berbeda**."
      ]
    },
    {
      "cell_type": "code",
      "metadata": {
        "colab": {
          "base_uri": "https://localhost:8080/"
        },
        "id": "BR8vi3oBRzCD",
        "outputId": "1dc654e2-f573-4f6b-9b58-ca34fc8357b3"
      },
      "source": [
        "stats,pvalue=sp.proportions_ztest(success,obs)\n",
        "print('p-value : {0:.4f}'.format(pvalue))\n",
        "if pvalue >=0.05:\n",
        "   print('tidak memadai untuk menolak H0')\n",
        "else:\n",
        "   print('H0 ditolak')"
      ],
      "execution_count": null,
      "outputs": [
        {
          "output_type": "stream",
          "name": "stdout",
          "text": [
            "p-value : 0.0744\n",
            "tidak memadai untuk menolak H0\n"
          ]
        }
      ]
    },
    {
      "cell_type": "markdown",
      "metadata": {
        "id": "jQAeblAJUDq5"
      },
      "source": [
        "\n",
        "**Kesimpulan**\n",
        "\n",
        "Berdasarkan uji z di atas, maka secara statistik, kedua group (`gate_30` dan `gate_40`) memberikan D1 retention yang **sama**."
      ]
    }
  ]
}